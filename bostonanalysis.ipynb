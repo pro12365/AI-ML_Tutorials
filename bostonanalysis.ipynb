{
 "cells": [
  {
   "cell_type": "code",
   "execution_count": 1,
   "metadata": {},
   "outputs": [],
   "source": [
    "from sklearn.datasets import load_boston\n",
    "from sklearn.model_selection import train_test_split\n",
    "from sklearn.metrics import mean_squared_error,r2_score\n",
    "from sklearn.linear_model import LinearRegression\n",
    "from sklearn.linear_model import Ridge\n",
    "import numpy as np\n",
    "import pandas as pd\n",
    "import matplotlib.pyplot as plt"
   ]
  },
  {
   "attachments": {},
   "cell_type": "markdown",
   "metadata": {},
   "source": [
    "<h5>Loading contents of Boston Dataset<h5>"
   ]
  },
  {
   "cell_type": "code",
   "execution_count": 2,
   "metadata": {},
   "outputs": [
    {
     "name": "stdout",
     "output_type": "stream",
     "text": [
      ".. _boston_dataset:\n",
      "\n",
      "Boston house prices dataset\n",
      "---------------------------\n",
      "\n",
      "**Data Set Characteristics:**  \n",
      "\n",
      "    :Number of Instances: 506 \n",
      "\n",
      "    :Number of Attributes: 13 numeric/categorical predictive. Median Value (attribute 14) is usually the target.\n",
      "\n",
      "    :Attribute Information (in order):\n",
      "        - CRIM     per capita crime rate by town\n",
      "        - ZN       proportion of residential land zoned for lots over 25,000 sq.ft.\n",
      "        - INDUS    proportion of non-retail business acres per town\n",
      "        - CHAS     Charles River dummy variable (= 1 if tract bounds river; 0 otherwise)\n",
      "        - NOX      nitric oxides concentration (parts per 10 million)\n",
      "        - RM       average number of rooms per dwelling\n",
      "        - AGE      proportion of owner-occupied units built prior to 1940\n",
      "        - DIS      weighted distances to five Boston employment centres\n",
      "        - RAD      index of accessibility to radial highways\n",
      "        - TAX      full-value property-tax rate per $10,000\n",
      "        - PTRATIO  pupil-teacher ratio by town\n",
      "        - B        1000(Bk - 0.63)^2 where Bk is the proportion of black people by town\n",
      "        - LSTAT    % lower status of the population\n",
      "        - MEDV     Median value of owner-occupied homes in $1000's\n",
      "\n",
      "    :Missing Attribute Values: None\n",
      "\n",
      "    :Creator: Harrison, D. and Rubinfeld, D.L.\n",
      "\n",
      "This is a copy of UCI ML housing dataset.\n",
      "https://archive.ics.uci.edu/ml/machine-learning-databases/housing/\n",
      "\n",
      "\n",
      "This dataset was taken from the StatLib library which is maintained at Carnegie Mellon University.\n",
      "\n",
      "The Boston house-price data of Harrison, D. and Rubinfeld, D.L. 'Hedonic\n",
      "prices and the demand for clean air', J. Environ. Economics & Management,\n",
      "vol.5, 81-102, 1978.   Used in Belsley, Kuh & Welsch, 'Regression diagnostics\n",
      "...', Wiley, 1980.   N.B. Various transformations are used in the table on\n",
      "pages 244-261 of the latter.\n",
      "\n",
      "The Boston house-price data has been used in many machine learning papers that address regression\n",
      "problems.   \n",
      "     \n",
      ".. topic:: References\n",
      "\n",
      "   - Belsley, Kuh & Welsch, 'Regression diagnostics: Identifying Influential Data and Sources of Collinearity', Wiley, 1980. 244-261.\n",
      "   - Quinlan,R. (1993). Combining Instance-Based and Model-Based Learning. In Proceedings on the Tenth International Conference of Machine Learning, 236-243, University of Massachusetts, Amherst. Morgan Kaufmann.\n",
      "\n"
     ]
    },
    {
     "name": "stderr",
     "output_type": "stream",
     "text": [
      "C:\\Users\\HP\\AppData\\Roaming\\Python\\Python310\\site-packages\\sklearn\\utils\\deprecation.py:87: FutureWarning: Function load_boston is deprecated; `load_boston` is deprecated in 1.0 and will be removed in 1.2.\n",
      "\n",
      "    The Boston housing prices dataset has an ethical problem. You can refer to\n",
      "    the documentation of this function for further details.\n",
      "\n",
      "    The scikit-learn maintainers therefore strongly discourage the use of this\n",
      "    dataset unless the purpose of the code is to study and educate about\n",
      "    ethical issues in data science and machine learning.\n",
      "\n",
      "    In this special case, you can fetch the dataset from the original\n",
      "    source::\n",
      "\n",
      "        import pandas as pd\n",
      "        import numpy as np\n",
      "\n",
      "        data_url = \"http://lib.stat.cmu.edu/datasets/boston\"\n",
      "        raw_df = pd.read_csv(data_url, sep=\"\\s+\", skiprows=22, header=None)\n",
      "        data = np.hstack([raw_df.values[::2, :], raw_df.values[1::2, :2]])\n",
      "        target = raw_df.values[1::2, 2]\n",
      "\n",
      "    Alternative datasets include the California housing dataset (i.e.\n",
      "    :func:`~sklearn.datasets.fetch_california_housing`) and the Ames housing\n",
      "    dataset. You can load the datasets as follows::\n",
      "\n",
      "        from sklearn.datasets import fetch_california_housing\n",
      "        housing = fetch_california_housing()\n",
      "\n",
      "    for the California housing dataset and::\n",
      "\n",
      "        from sklearn.datasets import fetch_openml\n",
      "        housing = fetch_openml(name=\"house_prices\", as_frame=True)\n",
      "\n",
      "    for the Ames housing dataset.\n",
      "  warnings.warn(msg, category=FutureWarning)\n"
     ]
    }
   ],
   "source": [
    "boston = load_boston()\n",
    "\n",
    "# Print the dataset content\n",
    "print(boston.DESCR)"
   ]
  },
  {
   "attachments": {},
   "cell_type": "markdown",
   "metadata": {},
   "source": [
    "<h5>Creating a Dataframe containing Boston Datset</h5>"
   ]
  },
  {
   "cell_type": "code",
   "execution_count": 3,
   "metadata": {},
   "outputs": [
    {
     "name": "stdout",
     "output_type": "stream",
     "text": [
      "      CRIM    ZN  INDUS  CHAS    NOX     RM   AGE     DIS  RAD    TAX  \\\n",
      "0  0.00632  18.0   2.31   0.0  0.538  6.575  65.2  4.0900  1.0  296.0   \n",
      "1  0.02731   0.0   7.07   0.0  0.469  6.421  78.9  4.9671  2.0  242.0   \n",
      "2  0.02729   0.0   7.07   0.0  0.469  7.185  61.1  4.9671  2.0  242.0   \n",
      "3  0.03237   0.0   2.18   0.0  0.458  6.998  45.8  6.0622  3.0  222.0   \n",
      "4  0.06905   0.0   2.18   0.0  0.458  7.147  54.2  6.0622  3.0  222.0   \n",
      "\n",
      "   PTRATIO       B  LSTAT  \n",
      "0     15.3  396.90   4.98  \n",
      "1     17.8  396.90   9.14  \n",
      "2     17.8  392.83   4.03  \n",
      "3     18.7  394.63   2.94  \n",
      "4     18.7  396.90   5.33  \n"
     ]
    }
   ],
   "source": [
    "# Create a pandas DataFrame with the dataset\n",
    "boston_df = pd.DataFrame(boston.data, columns=boston.feature_names)\n",
    "print(boston_df.head())"
   ]
  },
  {
   "attachments": {},
   "cell_type": "markdown",
   "metadata": {},
   "source": [
    "<h5>Finding Self Correlation of the Data Feature upto 2 Decimal Places</h5>"
   ]
  },
  {
   "cell_type": "code",
   "execution_count": 4,
   "metadata": {},
   "outputs": [
    {
     "name": "stdout",
     "output_type": "stream",
     "text": [
      "         CRIM    ZN  INDUS  CHAS   NOX    RM   AGE   DIS   RAD   TAX  PTRATIO  \\\n",
      "CRIM     1.00 -0.20   0.41 -0.06  0.42 -0.22  0.35 -0.38  0.63  0.58     0.29   \n",
      "ZN      -0.20  1.00  -0.53 -0.04 -0.52  0.31 -0.57  0.66 -0.31 -0.31    -0.39   \n",
      "INDUS    0.41 -0.53   1.00  0.06  0.76 -0.39  0.64 -0.71  0.60  0.72     0.38   \n",
      "CHAS    -0.06 -0.04   0.06  1.00  0.09  0.09  0.09 -0.10 -0.01 -0.04    -0.12   \n",
      "NOX      0.42 -0.52   0.76  0.09  1.00 -0.30  0.73 -0.77  0.61  0.67     0.19   \n",
      "RM      -0.22  0.31  -0.39  0.09 -0.30  1.00 -0.24  0.21 -0.21 -0.29    -0.36   \n",
      "AGE      0.35 -0.57   0.64  0.09  0.73 -0.24  1.00 -0.75  0.46  0.51     0.26   \n",
      "DIS     -0.38  0.66  -0.71 -0.10 -0.77  0.21 -0.75  1.00 -0.49 -0.53    -0.23   \n",
      "RAD      0.63 -0.31   0.60 -0.01  0.61 -0.21  0.46 -0.49  1.00  0.91     0.46   \n",
      "TAX      0.58 -0.31   0.72 -0.04  0.67 -0.29  0.51 -0.53  0.91  1.00     0.46   \n",
      "PTRATIO  0.29 -0.39   0.38 -0.12  0.19 -0.36  0.26 -0.23  0.46  0.46     1.00   \n",
      "B       -0.39  0.18  -0.36  0.05 -0.38  0.13 -0.27  0.29 -0.44 -0.44    -0.18   \n",
      "LSTAT    0.46 -0.41   0.60 -0.05  0.59 -0.61  0.60 -0.50  0.49  0.54     0.37   \n",
      "\n",
      "            B  LSTAT  \n",
      "CRIM    -0.39   0.46  \n",
      "ZN       0.18  -0.41  \n",
      "INDUS   -0.36   0.60  \n",
      "CHAS     0.05  -0.05  \n",
      "NOX     -0.38   0.59  \n",
      "RM       0.13  -0.61  \n",
      "AGE     -0.27   0.60  \n",
      "DIS      0.29  -0.50  \n",
      "RAD     -0.44   0.49  \n",
      "TAX     -0.44   0.54  \n",
      "PTRATIO -0.18   0.37  \n",
      "B        1.00  -0.37  \n",
      "LSTAT   -0.37   1.00  \n"
     ]
    }
   ],
   "source": [
    "# Calculate the self-correlation of the data features\n",
    "correlations = boston_df.corr().round(2)\n",
    "\n",
    "# Print the self-correlation table\n",
    "print(correlations)"
   ]
  },
  {
   "attachments": {},
   "cell_type": "markdown",
   "metadata": {},
   "source": [
    "<h5>Determining Variables with minimum and Maximum</h5>"
   ]
  },
  {
   "cell_type": "code",
   "execution_count": 5,
   "metadata": {},
   "outputs": [
    {
     "name": "stdout",
     "output_type": "stream",
     "text": [
      "Training variables: B, CRIM\n"
     ]
    }
   ],
   "source": [
    "# Find the variables with minimum and maximum self-correlation values\n",
    "min_corr_var = correlations.idxmin().values[0]\n",
    "max_corr_var = correlations.idxmax().values[0]\n",
    "\n",
    "# Use the minimum and maximum correlated variables as training variables\n",
    "X = boston_df[[min_corr_var, max_corr_var]]\n",
    "y = boston.target\n",
    "\n",
    "# Print the names of the training variables\n",
    "print(f\"Training variables: {min_corr_var}, {max_corr_var}\")"
   ]
  },
  {
   "attachments": {},
   "cell_type": "markdown",
   "metadata": {},
   "source": [
    "<h5>Using 70:30  split ratio creating (x_train,y_train) and test(x_split,y_split) dataset<br>Acessing train_test_split from sklearn.model selection<h5>"
   ]
  },
  {
   "cell_type": "code",
   "execution_count": 6,
   "metadata": {},
   "outputs": [
    {
     "name": "stdout",
     "output_type": "stream",
     "text": [
      "X_train shape: (354, 2)\n",
      "y_train shape: (354,)\n",
      "X_test shape: (152, 2)\n",
      "y_test shape: (152,)\n"
     ]
    }
   ],
   "source": [
    "X_train, X_test, y_train, y_test = train_test_split(X, y, test_size=0.3, random_state=42)\n",
    "\n",
    "# Print the shapes of the training and test datasets\n",
    "print(f\"X_train shape: {X_train.shape}\")\n",
    "print(f\"y_train shape: {y_train.shape}\")\n",
    "print(f\"X_test shape: {X_test.shape}\")\n",
    "print(f\"y_test shape: {y_test.shape}\")"
   ]
  },
  {
   "attachments": {},
   "cell_type": "markdown",
   "metadata": {},
   "source": [
    "<h5>Using Linear Regression model to train it using (x_train) and the predict feature to predict(y_pred)</h5>"
   ]
  },
  {
   "cell_type": "code",
   "execution_count": 7,
   "metadata": {},
   "outputs": [
    {
     "name": "stdout",
     "output_type": "stream",
     "text": [
      "[ 25.09003728  25.13726238  24.95098518  24.97583646  23.08026205\n",
      "  24.54300217  24.89123339  24.83560507  23.70351961  25.07844228\n",
      "  25.1182616   24.84383492   1.45258124  24.8758995   24.91396744\n",
      "  22.97640283  24.68644364  19.53984086  25.08573424  21.88956597\n",
      "  25.10025202  25.12908767  23.84672224  25.01287938  20.78278686\n",
      "  21.23236182  25.1067467   12.11195178  25.00507422  25.06303152\n",
      "  25.10829714  25.09832918  18.28904707  23.46775858  21.97504924\n",
      "  21.04524601  25.04616549  25.1450273   24.7216401   24.59749574\n",
      "  25.05559933  25.13975612  24.99193569  25.10955802  25.02313904\n",
      "  22.65709327  23.80455118  24.79830265  23.63388959  25.15481664\n",
      "  25.11588694  25.02781248  24.72536412  25.08413405  24.8034421\n",
      "  23.66424901  23.14229604  25.14476462  25.13931131  24.89661452\n",
      "  25.07986807  25.12829417  24.59010353  22.18989359  24.47903188\n",
      "  25.00442507  21.98157091  25.14421473  25.11574131  13.90340318\n",
      "  25.0910581   23.0624378   16.78063242  24.6004706   24.87911749\n",
      "  11.72451596  25.00334477  25.04218553  19.59710591  23.77731457\n",
      "  25.11214283  20.51632043  25.10179092  21.10193221  25.05044003\n",
      "  24.08665107  19.94529416  25.03756523  25.13277276  24.96343576\n",
      "  25.0410859    9.36234301  24.73920929  24.33171656  22.5109592\n",
      "  24.67308217  21.1580668    9.40593813  10.91122401  11.2290258\n",
      "  25.11620865  24.78345445  18.71483122  24.90542965  24.28241631\n",
      "  12.87113129  24.75472093  25.00968311  25.143157    25.14983266\n",
      "  10.1940288   14.68529635  24.95725527  25.13290533  24.39480077\n",
      "  12.90946853  25.10060208  22.53582148  25.09632928  24.6928118\n",
      "  24.47726158  25.09245842 -10.06769235  25.04466067  24.77069485\n",
      "  25.03404527  25.03921768  25.05595033  16.23031963  24.9057934\n",
      "  24.08521105  24.59359317  24.18049451  25.07923384  23.34721208\n",
      "  15.45886072  25.12653391  25.05245054  24.64919124  24.83028565\n",
      "  24.62972429  24.42100628  25.14169297  24.98409612   8.93299702\n",
      "  25.14199068  22.77310493  21.47887986  24.75209499  24.60159932\n",
      "  15.8168708   21.47231731]\n"
     ]
    }
   ],
   "source": [
    "lr_model= LinearRegression()\n",
    "lr_model.fit(X_train,y_train)\n",
    "y_pred= lr_model.predict(X_test)\n",
    "print(y_pred)"
   ]
  },
  {
   "attachments": {},
   "cell_type": "markdown",
   "metadata": {},
   "source": [
    "<h5>Determining MSE and RMSE and R2 score of theregression and performance<h5>"
   ]
  },
  {
   "cell_type": "code",
   "execution_count": 8,
   "metadata": {},
   "outputs": [
    {
     "name": "stdout",
     "output_type": "stream",
     "text": [
      "Mean Squared Error (MSE): 63.27\n",
      "Root Mean Squared Error (RMSE): 7.95\n",
      "R2 Score: 0.15\n"
     ]
    }
   ],
   "source": [
    "#mean squared error\n",
    "mse= mean_squared_error(y_test,y_pred)\n",
    "#root mean squared error\n",
    "rmse= np.sqrt(mse)\n",
    "#r2 score\n",
    "r2=r2_score(y_test,y_pred)\n",
    "# Print the performance metrics\n",
    "print(f\"Mean Squared Error (MSE): {mse:.2f}\")\n",
    "print(f\"Root Mean Squared Error (RMSE): {rmse:.2f}\")\n",
    "print(f\"R2 Score: {r2:.2f}\")"
   ]
  },
  {
   "attachments": {},
   "cell_type": "markdown",
   "metadata": {},
   "source": [
    "<h5>Training a Ridge Regression Model for the Boston Dataset<h5>"
   ]
  },
  {
   "cell_type": "code",
   "execution_count": 9,
   "metadata": {},
   "outputs": [
    {
     "name": "stdout",
     "output_type": "stream",
     "text": [
      "Alpha value: 100\n",
      "RMSE score: 7.95290214\n",
      "R2 score: 0.15117401\n",
      "-----------------------\n",
      "RMSE Scores: [7.954039194291968, 7.953981621552053, 7.953924125106421, 7.953866704870324, 7.95380936075912, 7.9537520926882666, 7.953694900573335, 7.953637784329989, 7.9535807438740065, 7.953523779121263, 7.95346688998774, 7.953410076389522, 7.9533533382427954, 7.953296675463852, 7.953240087969086, 7.953183575674995, 7.953127138498176, 7.953070776355332, 7.95301448916327, 7.952958276838894, 7.952902139299214]\n",
      "R2 Scores: [0.1509312688974377, 0.15094356027169897, 0.1509558352688778, 0.15096809390742005, 0.15098033620574847, 0.15099256218226265, 0.15100477185533812, 0.1510169652433282, 0.15102914236456244, 0.15104130323734744, 0.15105344787996666, 0.15106557631068052, 0.15107768854772685, 0.15108978460931943, 0.15110186451365015, 0.15111392827888726, 0.1511259759231769, 0.15113800746464134, 0.15115002292138058, 0.15116202231147213, 0.1511740056529699]\n"
     ]
    }
   ],
   "source": [
    "alpha_values = np.arange(0, 101, 5)  \n",
    "\n",
    "mse_scores = []  \n",
    "rmse_scores = []  \n",
    "r2_scores = [] \n",
    "\n",
    "for alpha in alpha_values:\n",
    "    # Create a Ridge Regression model with the current alpha value\n",
    "    ridge = Ridge(alpha=alpha)\n",
    "    # Fit the model using the training data\n",
    "    ridge.fit(X_train, y_train)\n",
    "    # Make predictions using the test data\n",
    "    y_pred = ridge.predict(X_test)\n",
    "    # Calculate the mean squared error, root mean squared error, and R2 score for the model\n",
    "    mse = mean_squared_error(y_test, y_pred)\n",
    "    rmse = np.sqrt(mse)\n",
    "    r2 = r2_score(y_test, y_pred)\n",
    "    mse_scores.append(mse)\n",
    "    rmse_scores.append(rmse)\n",
    "    r2_scores.append(r2)\n",
    "print(f\"Alpha value: {alpha}\")\n",
    "print(f\"RMSE score: {rmse:.8f}\")\n",
    "print(f\"R2 score: {r2:.8f}\")\n",
    "print(\"-----------------------\")\n",
    "\n",
    "# print lists of performance scores\n",
    "print(\"RMSE Scores:\", rmse_scores)\n",
    "print(\"R2 Scores:\", r2_scores)"
   ]
  },
  {
   "cell_type": "code",
   "execution_count": 10,
   "metadata": {},
   "outputs": [
    {
     "data": {
      "image/png": "[encoded data removed]",
      "text/plain": [
       "<Figure size 640x480 with 1 Axes>"
      ]
     },
     "metadata": {},
     "output_type": "display_data"
    }
   ],
   "source": [
    "\n",
    "# Plot the predicted values for the test data\n",
    "plt.plot(X_test, y_pred, color='red')\n",
    "\n",
    "# Add labels to the plot\n",
    "plt.title('Linear Regression')\n",
    "plt.xlabel('Feature')\n",
    "plt.ylabel('Target')\n",
    "plt.show()"
   ]
  }
 ],
 "metadata": {
  "kernelspec": {
   "display_name": "Python 3",
   "language": "python",
   "name": "python3"
  },
  "language_info": {
   "codemirror_mode": {
    "name": "ipython",
    "version": 3
   },
   "file_extension": ".py",
   "mimetype": "text/x-python",
   "name": "python",
   "nbconvert_exporter": "python",
   "pygments_lexer": "ipython3",
   "version": "3.10.2"
  },
  "orig_nbformat": 4
 },
 "nbformat": 4,
 "nbformat_minor": 2
}
